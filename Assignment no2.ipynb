{
 "cells": [
  {
   "cell_type": "code",
   "execution_count": 44,
   "metadata": {},
   "outputs": [
    {
     "data": {
      "text/plain": [
       "34"
      ]
     },
     "execution_count": 44,
     "metadata": {},
     "output_type": "execute_result"
    }
   ],
   "source": [
    "\"\"\"Write a Python Program to implement your own myreduce() function which works exactly like\n",
    "Python's built-in function reduce()\n",
    "The function reduce(function, sequence) continually applies the function to the sequence. It then returns a single value\n",
    "\"\"\"\n",
    "\n",
    "def myreduce(function, sequence):\n",
    "    result= sequence[0]  #first element of iterable/seq\n",
    "    for element in sequence[1:]: #iterate over sequence \n",
    "        result= function(result, element)\n",
    "        \n",
    "    \n",
    "    return result\n",
    "\n",
    "#test myreduce()\n",
    "lst= [1,5,4,8,7,9]\n",
    "def sum(a,b):\n",
    "    return a+b\n",
    "myreduce(sum, lst)   \n",
    "\n"
   ]
  },
  {
   "cell_type": "code",
   "execution_count": 45,
   "metadata": {},
   "outputs": [
    {
     "name": "stdout",
     "output_type": "stream",
     "text": [
      "34\n"
     ]
    }
   ],
   "source": [
    "new= myreduce(lambda x,y: x+y, lst)\n",
    "print(new)"
   ]
  },
  {
   "cell_type": "code",
   "execution_count": 46,
   "metadata": {},
   "outputs": [],
   "source": [
    "'''Write a Python program to implement your own myfilter() function which works exactly like\n",
    "Python's built-in function filter()'''\n",
    "\n",
    "def myfilter(function, sequence):\n",
    "    result= [] #empty list\n",
    "    for element in sequence: #iterate over sequence\n",
    "        if function(element):\n",
    "            result.append(element)\n",
    "    return result"
   ]
  },
  {
   "cell_type": "code",
   "execution_count": 47,
   "metadata": {},
   "outputs": [],
   "source": [
    "#test myfilter()\n",
    "def is_odd(num):\n",
    "    return num%2!= 0\n"
   ]
  },
  {
   "cell_type": "code",
   "execution_count": 48,
   "metadata": {},
   "outputs": [
    {
     "data": {
      "text/plain": [
       "[1, 5, 7, 9]"
      ]
     },
     "execution_count": 48,
     "metadata": {},
     "output_type": "execute_result"
    }
   ],
   "source": [
    "lst= [1,5,4,8,7,9]\n",
    "myfilter(is_odd, lst)"
   ]
  },
  {
   "cell_type": "code",
   "execution_count": 49,
   "metadata": {},
   "outputs": [
    {
     "name": "stdout",
     "output_type": "stream",
     "text": [
      "[1, 5, 7, 9]\n"
     ]
    }
   ],
   "source": [
    "# lambda \n",
    "new= myfilter(lambda x : x%2!=0, lst)\n",
    "print(new)"
   ]
  },
  {
   "cell_type": "code",
   "execution_count": 50,
   "metadata": {},
   "outputs": [
    {
     "data": {
      "text/plain": [
       "[0, 1, 4, 9, 16, 25, 36, 49, 64, 81, 100]"
      ]
     },
     "execution_count": 50,
     "metadata": {},
     "output_type": "execute_result"
    }
   ],
   "source": [
    "\"\"\"Implement List comprehensions to produce the following lists\"\"\"\n",
    "#list comprehension example\n",
    "[x*x for x in range(11)]"
   ]
  },
  {
   "cell_type": "code",
   "execution_count": 51,
   "metadata": {},
   "outputs": [
    {
     "data": {
      "text/plain": [
       "['A', 'C', 'A', 'D', 'G', 'I', 'L', 'D']"
      ]
     },
     "execution_count": 51,
     "metadata": {},
     "output_type": "execute_result"
    }
   ],
   "source": [
    "'''['A', 'C', 'A', 'D', 'G', 'I', ’L’, ‘ D’]'''\n",
    "\n",
    "alphabets= 'ACADGILD'\n",
    "[words for words in alphabets]"
   ]
  },
  {
   "cell_type": "code",
   "execution_count": 52,
   "metadata": {},
   "outputs": [
    {
     "data": {
      "text/plain": [
       "['x', 'xx', 'xxx', 'xxxx', 'y', 'yy', 'yyy', 'yyyy', 'z', 'zz', 'zzz', 'zzzz']"
      ]
     },
     "execution_count": 52,
     "metadata": {},
     "output_type": "execute_result"
    }
   ],
   "source": [
    "''''x', 'xx', 'xxx', 'xxxx', 'y', 'yy', 'yyy', 'yyyy', 'z', 'zz', 'zzz', 'zzzz']'''\n",
    "\n",
    "XYZ= ['x', 'y', 'z']\n",
    "[item*num for item in XYZ for num in range(1,5)]"
   ]
  },
  {
   "cell_type": "code",
   "execution_count": 53,
   "metadata": {},
   "outputs": [
    {
     "data": {
      "text/plain": [
       "['x', 'y', 'z', 'xx', 'yy', 'zz', 'xxx', 'yyy', 'zzz', 'xxxx', 'yyyy', 'zzzz']"
      ]
     },
     "execution_count": 53,
     "metadata": {},
     "output_type": "execute_result"
    }
   ],
   "source": [
    "'''['x', 'y', 'z', 'xx', 'yy', 'zz', 'xx', 'yy', 'zz', 'xxxx', 'yyyy', 'zzzz']'''\n",
    "\n",
    "xyz=['x', 'y', 'z']\n",
    "[item*num for num in range(1,5) for item in xyz]"
   ]
  },
  {
   "cell_type": "code",
   "execution_count": 54,
   "metadata": {},
   "outputs": [
    {
     "data": {
      "text/plain": [
       "[[2], [3], [4], [3], [4], [5], [4], [5], [6]]"
      ]
     },
     "execution_count": 54,
     "metadata": {},
     "output_type": "execute_result"
    }
   ],
   "source": [
    "'''[[2], [3], [4], [3], [4], [5], [4], [5], [6]]'''\n",
    "number= [2,3,4]\n",
    "[[item+num] for item in number for num in range(0,3)]"
   ]
  },
  {
   "cell_type": "code",
   "execution_count": 55,
   "metadata": {},
   "outputs": [
    {
     "data": {
      "text/plain": [
       "[[2, 3, 4, 5], [3, 4, 5, 6], [4, 5, 6, 7], [5, 6, 7, 8]]"
      ]
     },
     "execution_count": 55,
     "metadata": {},
     "output_type": "execute_result"
    }
   ],
   "source": [
    "'''[[2, 3, 4, 5], [3, 4, 5, 6], [4, 5, 6, 7], [5, 6, 7, 8]]'''\n",
    "\n",
    "numeric= [2, 3, 4, 5]\n",
    "[[item+num for item in numeric]for num in range(0,4)]"
   ]
  },
  {
   "cell_type": "code",
   "execution_count": 56,
   "metadata": {},
   "outputs": [
    {
     "data": {
      "text/plain": [
       "[(1, 1), (2, 1), (3, 1), (1, 2), (2, 2), (3, 2), (1, 3), (2, 3), (3, 3)]"
      ]
     },
     "execution_count": 56,
     "metadata": {},
     "output_type": "execute_result"
    }
   ],
   "source": [
    "'''[(1, 1), (2, 1), (3, 1), (1, 2), (2, 2), (3, 2), (1, 3), (2, 3), (3, 3)]'''\n",
    "in_list=[1, 2, 3]\n",
    "[(b,a)for a in in_list for b in in_list]"
   ]
  },
  {
   "cell_type": "code",
   "execution_count": 42,
   "metadata": {},
   "outputs": [],
   "source": [
    "'''Implement a function longestWord() that takes a list of words and returns the longest one.'''\n",
    "words= ['bourbon', 'parleg', 'britannia', 'nestle', 'sunfeast']\n",
    "def longestWord(n):\n",
    "    longest= []\n",
    "    for i in words:\n",
    "        longest.append((len(i), i))\n",
    "       \n",
    "    longest.sort()\n",
    "    return longest[-1][1]"
   ]
  },
  {
   "cell_type": "code",
   "execution_count": 43,
   "metadata": {},
   "outputs": [
    {
     "data": {
      "text/plain": [
       "'britannia'"
      ]
     },
     "execution_count": 43,
     "metadata": {},
     "output_type": "execute_result"
    }
   ],
   "source": [
    "longestWord(words)"
   ]
  },
  {
   "cell_type": "code",
   "execution_count": 30,
   "metadata": {},
   "outputs": [],
   "source": [
    "'''Write a Python Program(with class concepts) to find the area of the triangle using the below\n",
    "formula.\n",
    "area = (s*(s-a)*(s-b)*(s-c)) ** 0.5\n",
    "Function to take the length of the sides of triangle from user should be defined in the parent\n",
    "class and function to calculate the area should be defined in subclass.\n",
    "'''\n",
    "#Parent class\n",
    "class Polygon:\n",
    "    def __init__(self, no_sides):\n",
    "        self.no_sides= no_sides\n",
    "        self.sides= [0 for i in range(self.no_sides)]\n",
    "    #method for taking input\n",
    "    def inputSides(self):\n",
    "        self.sides= [float(input('Enter side no.' +str(i+1)+' : ')) for i in range(self.no_sides)]\n",
    "    def dispSides(self):\n",
    "        for i in range(self.no_sides):\n",
    "            print('Side', i+1, 'is', self.sides[i])\n",
    "\n",
    "#method overriding\n",
    "class Triangle(Polygon):\n",
    "    #init method\n",
    "    def __init__(self):\n",
    "        super(Triangle, self).__init__(3)\n",
    "    def findArea(self):\n",
    "        a, b, c= self.sides\n",
    "        #calculate semiperimeter\n",
    "        s= (a + b + c) / 2\n",
    "        area=  (s*(s-a)*(s-b)*(s-c)) ** 0.5\n",
    "        print('The area of the triangle is %0.2f' %area)\n",
    "            \n",
    "        "
   ]
  },
  {
   "cell_type": "code",
   "execution_count": 31,
   "metadata": {},
   "outputs": [],
   "source": [
    "#Create a object for class Triangle\n",
    "t= Triangle()"
   ]
  },
  {
   "cell_type": "code",
   "execution_count": 35,
   "metadata": {},
   "outputs": [
    {
     "name": "stdout",
     "output_type": "stream",
     "text": [
      "Enter side no.1 : 2\n",
      "Enter side no.2 : 3\n",
      "Enter side no.3 : 4\n"
     ]
    }
   ],
   "source": [
    "#calling method\n",
    "t.inputSides()"
   ]
  },
  {
   "cell_type": "code",
   "execution_count": 36,
   "metadata": {},
   "outputs": [
    {
     "name": "stdout",
     "output_type": "stream",
     "text": [
      "Side 1 is 2.0\n",
      "Side 2 is 3.0\n",
      "Side 3 is 4.0\n"
     ]
    }
   ],
   "source": [
    "t.dispSides()"
   ]
  },
  {
   "cell_type": "code",
   "execution_count": 37,
   "metadata": {},
   "outputs": [
    {
     "name": "stdout",
     "output_type": "stream",
     "text": [
      "The area of the triangle is 2.90\n"
     ]
    }
   ],
   "source": [
    "t.findArea()"
   ]
  },
  {
   "cell_type": "code",
   "execution_count": 69,
   "metadata": {},
   "outputs": [
    {
     "name": "stdout",
     "output_type": "stream",
     "text": [
      "['professor', 'nairobi']\n"
     ]
    }
   ],
   "source": [
    "'''Write a function filter_long_words() that takes a list of words and an integer n and returns the list\n",
    "of words that are longer than n.'''\n",
    "\n",
    "def filter_long_words(word, n):\n",
    "    list_of_words= []\n",
    "    for i in range(len(word)):\n",
    "        if len(word[i])> n:\n",
    "            list_of_words.append(word[i])\n",
    "        \n",
    "    return list_of_words       \n",
    "print(filter_long_words(['professor', 'nairobi', 'tokyo', 'rio', 'denver'], 6))            "
   ]
  },
  {
   "cell_type": "code",
   "execution_count": 70,
   "metadata": {},
   "outputs": [
    {
     "data": {
      "text/plain": [
       "['professor', 'nairobi']"
      ]
     },
     "execution_count": 70,
     "metadata": {},
     "output_type": "execute_result"
    }
   ],
   "source": [
    "#using lambda\n",
    "def filter_long_words(word, n):\n",
    "    return filter(lambda words : len(words)> n, word)\n",
    "list(filter_long_words(['professor', 'nairobi', 'tokyo', 'rio', 'denver'],6))"
   ]
  },
  {
   "cell_type": "code",
   "execution_count": 75,
   "metadata": {},
   "outputs": [
    {
     "name": "stdout",
     "output_type": "stream",
     "text": [
      "The lengths of corresponding words is[9, 7, 5, 3, 6]\n"
     ]
    }
   ],
   "source": [
    "'''Write a Python program using function concept that maps list of words into a list of integers\n",
    "representing the lengths of the corresponding words.\n",
    "'''\n",
    "money_heist= ['professor', 'nairobi', 'tokyo', 'rio', 'denver']\n",
    "def wordLength(money_heist):\n",
    "    return list(map(lambda words : len(words), money_heist))\n",
    "print('The lengths of corresponding words is' +str(wordLength(money_heist)))"
   ]
  },
  {
   "cell_type": "code",
   "execution_count": 79,
   "metadata": {},
   "outputs": [
    {
     "name": "stdout",
     "output_type": "stream",
     "text": [
      "Enter alphabet to check for vowel:diksha\n",
      "diksha not a vowel\n"
     ]
    }
   ],
   "source": [
    "'''Write a Python function which takes a character (i.e. a string of length 1) and returns True if it is\n",
    "a vowel, False otherwise.\n",
    "'''\n",
    "def vowel(char):\n",
    "    if(char == 'a' or char == 'e' or char == 'i' or char == 'o' or char == 'u') :\n",
    "        return True\n",
    "    else:\n",
    "        return False\n",
    "#for input\n",
    "char = input('Enter alphabet to check for vowel:')\n",
    "\n",
    "#wrong input\n",
    "if(char.isalpha() == False):\n",
    "    exit()\n",
    "    \n",
    "#call function\n",
    "if(vowel(char)):\n",
    "    print(char, 'is a vowel')\n",
    "else:\n",
    "    print(char, 'not a vowel')"
   ]
  },
  {
   "cell_type": "code",
   "execution_count": null,
   "metadata": {},
   "outputs": [],
   "source": []
  }
 ],
 "metadata": {
  "kernelspec": {
   "display_name": "Python 3",
   "language": "python",
   "name": "python3"
  },
  "language_info": {
   "codemirror_mode": {
    "name": "ipython",
    "version": 3
   },
   "file_extension": ".py",
   "mimetype": "text/x-python",
   "name": "python",
   "nbconvert_exporter": "python",
   "pygments_lexer": "ipython3",
   "version": "3.7.6"
  }
 },
 "nbformat": 4,
 "nbformat_minor": 4
}
