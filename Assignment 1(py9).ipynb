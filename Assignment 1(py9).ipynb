{
 "cells": [
  {
   "cell_type": "code",
   "execution_count": 7,
   "metadata": {},
   "outputs": [
    {
     "name": "stdout",
     "output_type": "stream",
     "text": [
      "2002,2009,2016,2023,2037,2044,2051,2058,2072,2079,2086,2093,2107,2114,2121,2128,2142,2149,2156,2163,2177,2184,2191,2198,2212,2219,2226,2233,2247,2254,2261,2268,2282,2289,2296,2303,2317,2324,2331,2338,2352,2359,2366,2373,2387,2394,2401,2408,2422,2429,2436,2443,2457,2464,2471,2478,2492,2499,2506,2513,2527,2534,2541,2548,2562,2569,2576,2583,2597,2604,2611,2618,2632,2639,2646,2653,2667,2674,2681,2688,2702,2709,2716,2723,2737,2744,2751,2758,2772,2779,2786,2793,2807,2814,2821,2828,2842,2849,2856,2863,2877,2884,2891,2898,2912,2919,2926,2933,2947,2954,2961,2968,2982,2989,2996,3003,3017,3024,3031,3038,3052,3059,3066,3073,3087,3094,3101,3108,3122,3129,3136,3143,3157,3164,3171,3178,3192,3199\n"
     ]
    }
   ],
   "source": [
    "\"\"\"WAP to find all numbers divisible by 7 but are not multiple of 5 between 2000 & 3200(both included).\n",
    "The number obtained should be printed in comma- separated sequence on a single line\"\"\"\n",
    "\n",
    "new_list=[]\n",
    "for i in range(2000, 3200):\n",
    "    if(i%7==0) and (i%5!=0):\n",
    "        new_list.append(str(i))\n",
    "print(','.join(new_list))"
   ]
  },
  {
   "cell_type": "code",
   "execution_count": 9,
   "metadata": {},
   "outputs": [
    {
     "name": "stdout",
     "output_type": "stream",
     "text": [
      "First name:nayan\n",
      "last name:tode\n",
      " tode nayan\n"
     ]
    }
   ],
   "source": [
    "\"\"\"WAP to accept the users first and last name and then getting them printed in the reverse order\n",
    "with the space in between first and last name\"\"\"\n",
    "first_name= input(\"First name:\")\n",
    "last_name= input(\"last name:\")\n",
    "print(\" \"+last_name+ \" \"+first_name)"
   ]
  },
  {
   "cell_type": "code",
   "execution_count": 11,
   "metadata": {},
   "outputs": [
    {
     "name": "stdout",
     "output_type": "stream",
     "text": [
      "Volume of sphere is:  904.3199999999999\n"
     ]
    }
   ],
   "source": [
    "\"\"\"Write a Python program to find the volume of a sphere with diameter 12 cm.\"\"\"\n",
    "pi= 3.14\n",
    "r= 6.0\n",
    "V= 4.0/3.0*pi*r**3\n",
    "print(\"Volume of sphere is: \",V)"
   ]
  },
  {
   "cell_type": "code",
   "execution_count": 14,
   "metadata": {},
   "outputs": [
    {
     "name": "stdout",
     "output_type": "stream",
     "text": [
      "Enter sequence of numbers with comma in between:5,7,6,5,8,3\n",
      "List of sequence of numbers:  ['5', '7', '6', '5', '8', '3']\n"
     ]
    }
   ],
   "source": [
    "\"\"\"Write a program which accepts a sequence of comma-separated numbers from console and\n",
    "generate a list.\"\"\"\n",
    "\n",
    "numbers = input(\"Enter sequence of numbers with comma in between:\")\n",
    "list = numbers.split(\",\")\n",
    "print(\"List of sequence of numbers: \",list)\n"
   ]
  },
  {
   "cell_type": "code",
   "execution_count": 17,
   "metadata": {},
   "outputs": [
    {
     "name": "stdout",
     "output_type": "stream",
     "text": [
      " \n",
      "*  \n",
      "* *  \n",
      "* * *  \n",
      "* * * *  \n",
      "* * * *  \n",
      "* * *  \n",
      "* *  \n",
      "*  \n",
      " \n"
     ]
    }
   ],
   "source": [
    "\"\"\"pattern problem\"\"\"\n",
    "\n",
    "n = 5\n",
    "for i in range(n):\n",
    "    for x in range(i):\n",
    "        print(\"*\",end=\" \")\n",
    "    print(\" \")\n",
    "    \n",
    "for i in range(n, 0, -1):\n",
    "    for x in range(i-1):\n",
    "        print(\"*\",end= \" \")\n",
    "    print(\" \")"
   ]
  },
  {
   "cell_type": "code",
   "execution_count": 19,
   "metadata": {},
   "outputs": [
    {
     "name": "stdout",
     "output_type": "stream",
     "text": [
      "Enter a word of your choice: devendra\n",
      "The original word is:  devendra\n",
      "The rev of the word is:  ardneved\n"
     ]
    }
   ],
   "source": [
    "\"\"\"Reverse a word after accepting input from user.\"\"\"\n",
    "\n",
    "word = input(\"Enter a word of your choice: \")\n",
    "def reverse(word):\n",
    "    word = word[::-1]\n",
    "    return word\n",
    "print(\"The original word is: \",word)\n",
    "#print(word)\n",
    "print(\"The rev of the word is: \",reverse(word))\n",
    "#print(reverse(word))\n",
    "    "
   ]
  },
  {
   "cell_type": "code",
   "execution_count": 21,
   "metadata": {},
   "outputs": [
    {
     "name": "stdout",
     "output_type": "stream",
     "text": [
      "WE, THE PEOPLE OF INDIA,\n",
      "\thaving solemnly resolved to constitute India into a SOVEREIGN, !\n",
      "\tSOCIALIST, SECULAR, DEMOCRATIC REPUBLIC\n",
      "\tand to secure to all its citizens\n"
     ]
    }
   ],
   "source": [
    "\"\"\"print sample output: \n",
    "   WE, THE PEOPLE OF INDIA,\n",
    "        having solemnly resolved to constitute India into a SOVEREIGN, !\n",
    "            SOCIALIST, SECULAR, DEMOCRATIC REPUBLIC\n",
    "            and to secure to all its citizens\n",
    "\n",
    "\"\"\"\n",
    "print(\"WE, THE PEOPLE OF INDIA,\\n\\thaving solemnly resolved to constitute India into a SOVEREIGN, !\\n\\tSOCIALIST, SECULAR, DEMOCRATIC REPUBLIC\\n\\tand to secure to all its citizens\")\n"
   ]
  },
  {
   "cell_type": "code",
   "execution_count": null,
   "metadata": {},
   "outputs": [],
   "source": []
  }
 ],
 "metadata": {
  "kernelspec": {
   "display_name": "Python 3",
   "language": "python",
   "name": "python3"
  },
  "language_info": {
   "codemirror_mode": {
    "name": "ipython",
    "version": 3
   },
   "file_extension": ".py",
   "mimetype": "text/x-python",
   "name": "python",
   "nbconvert_exporter": "python",
   "pygments_lexer": "ipython3",
   "version": "3.7.6"
  }
 },
 "nbformat": 4,
 "nbformat_minor": 4
}
